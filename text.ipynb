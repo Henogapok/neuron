{
 "cells": [
  {
   "metadata": {
    "ExecuteTime": {
     "end_time": "2024-12-07T11:30:26.391989Z",
     "start_time": "2024-12-07T11:30:26.387925Z"
    }
   },
   "cell_type": "code",
   "source": [
    "import torch\n",
    "import torch.nn as nn\n",
    "import torch.optim as optim\n",
    "import pandas as pd\n",
    "from sklearn.metrics import accuracy_score"
   ],
   "id": "87e132a26ae5df01",
   "outputs": [],
   "execution_count": 102
  },
  {
   "metadata": {
    "ExecuteTime": {
     "end_time": "2024-12-07T11:33:08.888736Z",
     "start_time": "2024-12-07T11:33:08.883736Z"
    }
   },
   "cell_type": "code",
   "source": [
    "data = {\n",
    "    'Text': [\n",
    "        \"Компьютер не включается, горит красный индикатор на материнской плате.\",\n",
    "        \"Компьютер перегревается и автоматически выключается через 10 минут работы.\",\n",
    "        \"Монитор не показывает изображение, но компьютер включается.\",\n",
    "        \"Компьютер работает медленно и долго загружается.\",\n",
    "        \"Жесткий диск издает странные звуки.\",\n",
    "        \"Экран черный, но кулеры работают.\",\n",
    "        \"При загрузке система зависает на логотипе.\",\n",
    "        \"Не работает клавиатура и мышь.\",\n",
    "        \"Нет звука на компьютере.\",\n",
    "        \"Видеокарта перегревается и вызывает артефакты.\"\n",
    "    ],\n",
    "    'Label1': ['Питание', 'Охлаждение', 'Монитор', 'Производительность', \n",
    "               'Жесткий диск', 'Монитор', 'Процессор', 'Периферия', \n",
    "               'Аудио', 'Видеокарта'],\n",
    "    'Label2': ['Материнская плата', 'Процессор', 'Видеокарта', \n",
    "               'Операционная система', 'Жесткий диск', 'Монитор', \n",
    "               'Материнская плата', 'Периферия', 'Звуковая карта', \n",
    "               'Видеокарта']\n",
    "}"
   ],
   "id": "94ba9a4fde972ca9",
   "outputs": [],
   "execution_count": 116
  },
  {
   "metadata": {
    "ExecuteTime": {
     "end_time": "2024-12-07T11:33:09.395551Z",
     "start_time": "2024-12-07T11:33:09.388432Z"
    }
   },
   "cell_type": "code",
   "source": [
    "df = pd.DataFrame(data)\n",
    "texts = df['Text']\n",
    "labels = pd.get_dummies(df[['Label1', 'Label2']])"
   ],
   "id": "c7125082df8affa8",
   "outputs": [],
   "execution_count": 117
  },
  {
   "metadata": {
    "ExecuteTime": {
     "end_time": "2024-12-07T11:37:56.985400Z",
     "start_time": "2024-12-07T11:37:56.976234Z"
    }
   },
   "cell_type": "code",
   "source": [
    "import re\n",
    "\n",
    "STOP_WORDS = {\"не\", \"после\", \"но\", \"на\", \"в\", \"и\", \"горит\", \"нескольких\", \"минут\"}\n",
    "\n",
    "def tokenize(text, stopwords):\n",
    "    text = text.lower()\n",
    "    text = re.sub(r\"[^\\w\\s]\", \"\", text)\n",
    "    tokens = text.split()\n",
    "    tokens = [word for word in tokens if word not in stopwords]\n",
    "    return tokens\n",
    "\n",
    "def build_vocabulary(texts):\n",
    "    vocab = set()\n",
    "    for text in texts:\n",
    "        tokens = tokenize(text, STOP_WORDS)\n",
    "        vocab.update(tokens)\n",
    "    return list(vocab)\n",
    "\n",
    "def text_to_vector(text, vocabulary):\n",
    "    tokens = tokenize(text, STOP_WORDS)\n",
    "    vector = [1 if word in tokens else 0 for word in vocabulary]\n",
    "    return vector\n",
    "\n",
    "vocabulary = build_vocabulary(texts)\n",
    "\n",
    "vectors = [text_to_vector(text, vocabulary) for text in texts]\n",
    "\n",
    "X = [text_to_vector(text, vocabulary) for text in texts]\n",
    "X = torch.tensor(X, dtype=torch.float32)\n",
    "y = torch.tensor(labels.values, dtype=torch.long)"
   ],
   "id": "d4fbb522360e9bff",
   "outputs": [],
   "execution_count": 127
  },
  {
   "metadata": {
    "ExecuteTime": {
     "end_time": "2024-12-07T11:37:57.960472Z",
     "start_time": "2024-12-07T11:37:57.953597Z"
    }
   },
   "cell_type": "code",
   "source": [
    "class ImprovedNN(nn.Module):\n",
    "    def __init__(self, input_dim, hidden_dim1, hidden_dim2, hidden_dim3, output_dim):\n",
    "        super(ImprovedNN, self).__init__()\n",
    "        self.fc1 = nn.Linear(input_dim, hidden_dim1)\n",
    "        self.relu1 = nn.ReLU()\n",
    "        self.dropout1 = nn.Dropout(p=0.3)\n",
    "        self.fc2 = nn.Linear(hidden_dim1, hidden_dim2)\n",
    "        self.relu2 = nn.ReLU()\n",
    "        self.dropout2 = nn.Dropout(p=0.3)\n",
    "        self.fc3 = nn.Linear(hidden_dim2, hidden_dim3)\n",
    "        self.relu3 = nn.ReLU()\n",
    "        self.fc4 = nn.Linear(hidden_dim3, output_dim)\n",
    "\n",
    "    def forward(self, x):\n",
    "        x = self.dropout1(self.relu1(self.fc1(x)))\n",
    "        x = self.dropout2(self.relu2(self.fc2(x)))\n",
    "        x = self.relu3(self.fc3(x))\n",
    "        x = self.fc4(x)\n",
    "        return x"
   ],
   "id": "23d79eadf0b5542f",
   "outputs": [],
   "execution_count": 128
  },
  {
   "metadata": {
    "ExecuteTime": {
     "end_time": "2024-12-07T11:37:58.706223Z",
     "start_time": "2024-12-07T11:37:58.702074Z"
    }
   },
   "cell_type": "code",
   "source": [
    "def train_model(model, optimizer, criterion, X_train, y_train, epochs=10):\n",
    "    model.train()\n",
    "    for epoch in range(epochs):\n",
    "        optimizer.zero_grad()\n",
    "        outputs = model(X_train)\n",
    "        loss = criterion(outputs, y_train)\n",
    "        loss.backward()\n",
    "        optimizer.step()\n",
    "    return model"
   ],
   "id": "5a396a13c8dacdfa",
   "outputs": [],
   "execution_count": 129
  },
  {
   "metadata": {
    "ExecuteTime": {
     "end_time": "2024-12-07T11:37:59.235153Z",
     "start_time": "2024-12-07T11:37:59.231446Z"
    }
   },
   "cell_type": "code",
   "source": [
    "def evaluate_model(model, X_val, y_val):\n",
    "    model.eval()\n",
    "    with torch.no_grad():\n",
    "        outputs = model(X_val)\n",
    "        predicted = torch.argmax(outputs, dim=1)\n",
    "        accuracy = accuracy_score(y_val, predicted)\n",
    "    return accuracy"
   ],
   "id": "d07de86bda5b56d8",
   "outputs": [],
   "execution_count": 130
  },
  {
   "metadata": {
    "ExecuteTime": {
     "end_time": "2024-12-07T12:08:23.111139Z",
     "start_time": "2024-12-07T12:08:23.106431Z"
    }
   },
   "cell_type": "code",
   "source": [
    "param_grid = {\n",
    "    'lr': [0.001, 0.01, 0.1],\n",
    "    'hidden_dim1': [128, 256],\n",
    "    'hidden_dim2': [64, 128],\n",
    "    'hidden_dim3': [32, 64],\n",
    "    'epochs': [100, 200]\n",
    "}"
   ],
   "id": "145bf74eff237214",
   "outputs": [],
   "execution_count": 144
  },
  {
   "metadata": {
    "ExecuteTime": {
     "end_time": "2024-12-07T12:08:23.619558Z",
     "start_time": "2024-12-07T12:08:23.614167Z"
    }
   },
   "cell_type": "code",
   "source": [
    "input_dim = X.shape[1]\n",
    "output_dim = y.shape[1]"
   ],
   "id": "f8f8bb51d8917df1",
   "outputs": [],
   "execution_count": 145
  },
  {
   "metadata": {
    "ExecuteTime": {
     "end_time": "2024-12-07T12:08:24.054771Z",
     "start_time": "2024-12-07T12:08:24.048792Z"
    }
   },
   "cell_type": "code",
   "source": [
    "from sklearn.model_selection import train_test_split\n",
    "X_train, X_val, y_train, y_val = train_test_split(\n",
    "    X, y.argmax(axis=1), test_size=0.3, random_state=42\n",
    ")"
   ],
   "id": "92e73dab9a2d3e54",
   "outputs": [],
   "execution_count": 146
  },
  {
   "metadata": {
    "ExecuteTime": {
     "end_time": "2024-12-07T12:08:41.782570Z",
     "start_time": "2024-12-07T12:08:24.764053Z"
    }
   },
   "cell_type": "code",
   "source": [
    "best_params = None\n",
    "best_accuracy = 0\n",
    "\n",
    "for lr in param_grid['lr']:\n",
    "    for h1 in param_grid['hidden_dim1']:\n",
    "        for h2 in param_grid['hidden_dim2']:\n",
    "            for h3 in param_grid['hidden_dim3']:\n",
    "                for epochs in param_grid['epochs']:\n",
    "                    model = ImprovedNN(input_dim, h1, h2, h3, output_dim)\n",
    "                    optimizer = optim.Adam(model.parameters(), lr=lr)\n",
    "                    criterion = nn.CrossEntropyLoss()\n",
    "                    \n",
    "                    model = train_model(model, optimizer, criterion, X_train, y_train, epochs=epochs)\n",
    "                    \n",
    "                    accuracy = evaluate_model(model, X_val, y_val)\n",
    "                    print(f\"Текущие параметры: lr={lr}, h1={h1}, h2={h2}, h3={h3}, epochs={epochs}, acc={accuracy:.4f}\")\n",
    "                    \n",
    "                    if accuracy > best_accuracy:\n",
    "                        best_accuracy = accuracy\n",
    "                        best_params = {'lr': lr, 'hidden_dim1': h1, 'hidden_dim2': h2, 'hidden_dim3': h3, 'epochs': epochs}\n",
    "                        \n",
    "\n",
    "print(f\"\\nЛучшие параметры: {best_params} с точностью {best_accuracy:.4f}\")"
   ],
   "id": "a6d2f88006e42bf3",
   "outputs": [
    {
     "name": "stdout",
     "output_type": "stream",
     "text": [
      "Текущие параметры: lr=0.001, h1=128, h2=64, h3=32, epochs=100, acc=0.0000\n",
      "Текущие параметры: lr=0.001, h1=128, h2=64, h3=32, epochs=200, acc=0.0000\n",
      "Текущие параметры: lr=0.001, h1=128, h2=64, h3=64, epochs=100, acc=0.0000\n",
      "Текущие параметры: lr=0.001, h1=128, h2=64, h3=64, epochs=200, acc=0.0000\n",
      "Текущие параметры: lr=0.001, h1=128, h2=128, h3=32, epochs=100, acc=0.0000\n",
      "Текущие параметры: lr=0.001, h1=128, h2=128, h3=32, epochs=200, acc=0.0000\n",
      "Текущие параметры: lr=0.001, h1=128, h2=128, h3=64, epochs=100, acc=0.0000\n",
      "Текущие параметры: lr=0.001, h1=128, h2=128, h3=64, epochs=200, acc=0.0000\n",
      "Текущие параметры: lr=0.001, h1=256, h2=64, h3=32, epochs=100, acc=0.0000\n",
      "Текущие параметры: lr=0.001, h1=256, h2=64, h3=32, epochs=200, acc=0.0000\n",
      "Текущие параметры: lr=0.001, h1=256, h2=64, h3=64, epochs=100, acc=0.0000\n",
      "Текущие параметры: lr=0.001, h1=256, h2=64, h3=64, epochs=200, acc=0.0000\n",
      "Текущие параметры: lr=0.001, h1=256, h2=128, h3=32, epochs=100, acc=0.0000\n",
      "Текущие параметры: lr=0.001, h1=256, h2=128, h3=32, epochs=200, acc=0.0000\n",
      "Текущие параметры: lr=0.001, h1=256, h2=128, h3=64, epochs=100, acc=0.3333\n",
      "Текущие параметры: lr=0.001, h1=256, h2=128, h3=64, epochs=200, acc=0.0000\n",
      "Текущие параметры: lr=0.01, h1=128, h2=64, h3=32, epochs=100, acc=0.0000\n",
      "Текущие параметры: lr=0.01, h1=128, h2=64, h3=32, epochs=200, acc=0.0000\n",
      "Текущие параметры: lr=0.01, h1=128, h2=64, h3=64, epochs=100, acc=0.0000\n",
      "Текущие параметры: lr=0.01, h1=128, h2=64, h3=64, epochs=200, acc=0.0000\n",
      "Текущие параметры: lr=0.01, h1=128, h2=128, h3=32, epochs=100, acc=0.0000\n",
      "Текущие параметры: lr=0.01, h1=128, h2=128, h3=32, epochs=200, acc=0.0000\n",
      "Текущие параметры: lr=0.01, h1=128, h2=128, h3=64, epochs=100, acc=0.0000\n",
      "Текущие параметры: lr=0.01, h1=128, h2=128, h3=64, epochs=200, acc=0.0000\n",
      "Текущие параметры: lr=0.01, h1=256, h2=64, h3=32, epochs=100, acc=0.0000\n",
      "Текущие параметры: lr=0.01, h1=256, h2=64, h3=32, epochs=200, acc=0.0000\n",
      "Текущие параметры: lr=0.01, h1=256, h2=64, h3=64, epochs=100, acc=0.3333\n",
      "Текущие параметры: lr=0.01, h1=256, h2=64, h3=64, epochs=200, acc=0.0000\n",
      "Текущие параметры: lr=0.01, h1=256, h2=128, h3=32, epochs=100, acc=0.0000\n",
      "Текущие параметры: lr=0.01, h1=256, h2=128, h3=32, epochs=200, acc=0.0000\n",
      "Текущие параметры: lr=0.01, h1=256, h2=128, h3=64, epochs=100, acc=0.0000\n",
      "Текущие параметры: lr=0.01, h1=256, h2=128, h3=64, epochs=200, acc=0.0000\n",
      "Текущие параметры: lr=0.1, h1=128, h2=64, h3=32, epochs=100, acc=0.0000\n",
      "Текущие параметры: lr=0.1, h1=128, h2=64, h3=32, epochs=200, acc=0.0000\n",
      "Текущие параметры: lr=0.1, h1=128, h2=64, h3=64, epochs=100, acc=0.0000\n",
      "Текущие параметры: lr=0.1, h1=128, h2=64, h3=64, epochs=200, acc=0.0000\n",
      "Текущие параметры: lr=0.1, h1=128, h2=128, h3=32, epochs=100, acc=0.0000\n",
      "Текущие параметры: lr=0.1, h1=128, h2=128, h3=32, epochs=200, acc=0.0000\n",
      "Текущие параметры: lr=0.1, h1=128, h2=128, h3=64, epochs=100, acc=0.0000\n",
      "Текущие параметры: lr=0.1, h1=128, h2=128, h3=64, epochs=200, acc=0.0000\n",
      "Текущие параметры: lr=0.1, h1=256, h2=64, h3=32, epochs=100, acc=0.0000\n",
      "Текущие параметры: lr=0.1, h1=256, h2=64, h3=32, epochs=200, acc=0.3333\n",
      "Текущие параметры: lr=0.1, h1=256, h2=64, h3=64, epochs=100, acc=0.0000\n",
      "Текущие параметры: lr=0.1, h1=256, h2=64, h3=64, epochs=200, acc=0.0000\n",
      "Текущие параметры: lr=0.1, h1=256, h2=128, h3=32, epochs=100, acc=0.0000\n",
      "Текущие параметры: lr=0.1, h1=256, h2=128, h3=32, epochs=200, acc=0.0000\n",
      "Текущие параметры: lr=0.1, h1=256, h2=128, h3=64, epochs=100, acc=0.0000\n",
      "Текущие параметры: lr=0.1, h1=256, h2=128, h3=64, epochs=200, acc=0.0000\n",
      "\n",
      "Лучшие параметры: {'lr': 0.001, 'hidden_dim1': 256, 'hidden_dim2': 128, 'hidden_dim3': 64, 'epochs': 100} с точностью 0.3333\n"
     ]
    }
   ],
   "execution_count": 147
  },
  {
   "metadata": {
    "ExecuteTime": {
     "end_time": "2024-12-07T12:08:44.675729Z",
     "start_time": "2024-12-07T12:08:44.397016Z"
    }
   },
   "cell_type": "code",
   "source": [
    "best_model = ImprovedNN(\n",
    "    input_dim=input_dim, \n",
    "    hidden_dim1=best_params['hidden_dim1'], \n",
    "    hidden_dim2=best_params['hidden_dim2'], \n",
    "    hidden_dim3=best_params['hidden_dim3'], \n",
    "    output_dim=output_dim\n",
    ")\n",
    "\n",
    "optimizer = optim.Adam(best_model.parameters(), lr=best_params['lr'])\n",
    "criterion = nn.CrossEntropyLoss()\n",
    "\n",
    "train_model(best_model, optimizer, criterion, X_train, y_train, epochs=best_params['epochs'])"
   ],
   "id": "740e3e662d54203e",
   "outputs": [
    {
     "data": {
      "text/plain": [
       "ImprovedNN(\n",
       "  (fc1): Linear(in_features=41, out_features=256, bias=True)\n",
       "  (relu1): ReLU()\n",
       "  (dropout1): Dropout(p=0.3, inplace=False)\n",
       "  (fc2): Linear(in_features=256, out_features=128, bias=True)\n",
       "  (relu2): ReLU()\n",
       "  (dropout2): Dropout(p=0.3, inplace=False)\n",
       "  (fc3): Linear(in_features=128, out_features=64, bias=True)\n",
       "  (relu3): ReLU()\n",
       "  (fc4): Linear(in_features=64, out_features=17, bias=True)\n",
       ")"
      ]
     },
     "execution_count": 148,
     "metadata": {},
     "output_type": "execute_result"
    }
   ],
   "execution_count": 148
  },
  {
   "metadata": {
    "ExecuteTime": {
     "end_time": "2024-12-07T12:08:45.693271Z",
     "start_time": "2024-12-07T12:08:45.684996Z"
    }
   },
   "cell_type": "code",
   "source": [
    "new_texts = [\n",
    "    \"Компьютер выключается через несколько минут работы.\",\n",
    "    \"Жесткий диск странно щелкает.\",\n",
    "    \"Монитор перестал показывать изображение.\"\n",
    "]\n",
    "\n",
    "new_text_vectors = [text_to_vector(text, vocabulary) for text in new_texts]\n",
    "new_text_tensor = torch.tensor(new_text_vectors, dtype=torch.float32)\n",
    "\n",
    "best_model.eval()\n",
    "with torch.no_grad():\n",
    "    predictions = best_model(new_text_tensor)\n",
    "    predicted_classes = torch.argmax(predictions, dim=1)\n",
    "\n",
    "for text, predicted_class in zip(new_texts, predicted_classes):\n",
    "    predicted_label = labels.columns[predicted_class.item()]\n",
    "    print(f\"Текст: \\\"{text}\\\" => Предсказанная категория: {predicted_label}\")"
   ],
   "id": "ae28228ee8b7ff08",
   "outputs": [
    {
     "name": "stdout",
     "output_type": "stream",
     "text": [
      "Текст: \"Компьютер выключается через несколько минут работы.\" => Предсказанная категория: Label1_Производительность\n",
      "Текст: \"Жесткий диск странно щелкает.\" => Предсказанная категория: Label1_Жесткий диск\n",
      "Текст: \"Монитор перестал показывать изображение.\" => Предсказанная категория: Label1_Монитор\n"
     ]
    }
   ],
   "execution_count": 149
  }
 ],
 "metadata": {
  "kernelspec": {
   "display_name": "Python 3",
   "language": "python",
   "name": "python3"
  },
  "language_info": {
   "codemirror_mode": {
    "name": "ipython",
    "version": 2
   },
   "file_extension": ".py",
   "mimetype": "text/x-python",
   "name": "python",
   "nbconvert_exporter": "python",
   "pygments_lexer": "ipython2",
   "version": "2.7.6"
  }
 },
 "nbformat": 4,
 "nbformat_minor": 5
}
