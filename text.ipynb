{
 "cells": [
  {
   "metadata": {
    "ExecuteTime": {
     "end_time": "2024-12-04T16:19:35.232248Z",
     "start_time": "2024-12-04T16:19:35.228518Z"
    }
   },
   "cell_type": "code",
   "source": "import math",
   "id": "87e132a26ae5df01",
   "outputs": [],
   "execution_count": 17
  },
  {
   "metadata": {
    "ExecuteTime": {
     "end_time": "2024-12-04T16:21:04.384233Z",
     "start_time": "2024-12-04T16:21:04.380098Z"
    }
   },
   "cell_type": "code",
   "source": [
    "support_data = [\n",
    "    {\"text\": \"Компьютер не включается, горит красный индикатор на материнской плате.\", \"solution\": \"Проверьте блок питания и подключение к материнской плате.\"},\n",
    "    {\"text\": \"Компьютер перегревается и автоматически выключается через 10 минут работы.\", \"solution\": \"Проверьте систему охлаждения, почистите вентиляторы и замените термопасту.\"},\n",
    "    {\"text\": \"Монитор не показывает изображение, но компьютер включается.\", \"solution\": \"Проверьте подключение монитора и видеокарты, попробуйте другой кабель.\"},\n",
    "    {\"text\": \"Компьютер работает медленно и долго загружается.\", \"solution\": \"Очистите диск от ненужных файлов и проверьте наличие вирусов.\"},\n",
    "]"
   ],
   "id": "c7125082df8affa8",
   "outputs": [],
   "execution_count": 25
  },
  {
   "metadata": {
    "ExecuteTime": {
     "end_time": "2024-12-04T16:21:04.828113Z",
     "start_time": "2024-12-04T16:21:04.824301Z"
    }
   },
   "cell_type": "code",
   "source": [
    "def preprocess_text(text):\n",
    "    text = text.lower()\n",
    "    symbols = \".,:;!?-\"\n",
    "    for symbol in symbols:\n",
    "        text = text.replace(symbol, \"\")\n",
    "    tokens = text.split()\n",
    "    stop_words = {\"и\", \"на\", \"в\"}\n",
    "    tokens = [word for word in tokens if word not in stop_words]\n",
    "    return tokens"
   ],
   "id": "d4fbb522360e9bff",
   "outputs": [],
   "execution_count": 26
  },
  {
   "metadata": {
    "ExecuteTime": {
     "end_time": "2024-12-04T16:21:05.304787Z",
     "start_time": "2024-12-04T16:21:05.300945Z"
    }
   },
   "cell_type": "code",
   "source": [
    "def text_to_vector(tokens, vocabulary):\n",
    "    return [1 if word in tokens else 0 for word in vocabulary]\n",
    "\n",
    "vocabulary = set()\n",
    "for entry in support_data:\n",
    "    tokens = preprocess_text(entry[\"text\"])\n",
    "    vocabulary.update(tokens)\n",
    "vocabulary = list(vocabulary)\n",
    "print(vocabulary)"
   ],
   "id": "5a396a13c8dacdfa",
   "outputs": [
    {
     "name": "stdout",
     "output_type": "stream",
     "text": [
      "['работы', 'материнской', 'монитор', 'индикатор', 'минут', 'работает', 'красный', 'выключается', 'долго', 'изображение', 'включается', 'медленно', 'загружается', 'через', '10', 'горит', 'автоматически', 'перегревается', 'плате', 'компьютер', 'но', 'показывает', 'не']\n"
     ]
    }
   ],
   "execution_count": 27
  },
  {
   "metadata": {
    "ExecuteTime": {
     "end_time": "2024-12-04T16:21:05.909962Z",
     "start_time": "2024-12-04T16:21:05.906448Z"
    }
   },
   "cell_type": "code",
   "source": [
    "def cosine_similarity(vec1, vec2):\n",
    "        dot_product = sum(a * b for a, b in zip(vec1, vec2))\n",
    "        magnitude1 = math.sqrt(sum(a ** 2 for a in vec1))\n",
    "        magnitude2 = math.sqrt(sum(b ** 2 for b in vec2))\n",
    "        if magnitude1 == 0 or magnitude2 == 0:\n",
    "            return 0\n",
    "        return dot_product / (magnitude1 * magnitude2)"
   ],
   "id": "d07de86bda5b56d8",
   "outputs": [],
   "execution_count": 28
  },
  {
   "metadata": {
    "ExecuteTime": {
     "end_time": "2024-12-04T16:21:06.331958Z",
     "start_time": "2024-12-04T16:21:06.328258Z"
    }
   },
   "cell_type": "code",
   "source": [
    "def predict_solution(new_text, support_data, vocabulary):\n",
    "    tokens = preprocess_text(new_text)\n",
    "    new_vector = text_to_vector(tokens, vocabulary)\n",
    "    \n",
    "    best_match = None\n",
    "    best_similarity = -1\n",
    "    \n",
    "    for entry in support_data:\n",
    "        entry_tokens = preprocess_text(entry[\"text\"])\n",
    "        entry_vector = text_to_vector(entry_tokens, vocabulary)\n",
    "        similarity = cosine_similarity(new_vector, entry_vector)\n",
    "        if similarity > best_similarity:\n",
    "            best_similarity = similarity\n",
    "            best_match = entry[\"solution\"]\n",
    "    \n",
    "    return best_match"
   ],
   "id": "145bf74eff237214",
   "outputs": [],
   "execution_count": 29
  },
  {
   "metadata": {
    "ExecuteTime": {
     "end_time": "2024-12-04T16:21:07.775334Z",
     "start_time": "2024-12-04T16:21:07.771465Z"
    }
   },
   "cell_type": "code",
   "source": [
    "new_text = \"Компьютер включается, но потом выключается\"\n",
    "\n",
    "predicted_solution = predict_solution(new_text, support_data, vocabulary)\n",
    "print(f\"Описание проблемы: {new_text}\")\n",
    "print(f\"Рекомендованное решение: {predicted_solution}\")"
   ],
   "id": "f8f8bb51d8917df1",
   "outputs": [
    {
     "name": "stdout",
     "output_type": "stream",
     "text": [
      "Описание проблемы: Компьютер включается, но потом выключается\n",
      "Рекомендованное решение: Проверьте подключение монитора и видеокарты, попробуйте другой кабель.\n"
     ]
    }
   ],
   "execution_count": 30
  },
  {
   "metadata": {},
   "cell_type": "code",
   "outputs": [],
   "execution_count": null,
   "source": "",
   "id": "2a6d7131b0d24825"
  }
 ],
 "metadata": {
  "kernelspec": {
   "display_name": "Python 3",
   "language": "python",
   "name": "python3"
  },
  "language_info": {
   "codemirror_mode": {
    "name": "ipython",
    "version": 2
   },
   "file_extension": ".py",
   "mimetype": "text/x-python",
   "name": "python",
   "nbconvert_exporter": "python",
   "pygments_lexer": "ipython2",
   "version": "2.7.6"
  }
 },
 "nbformat": 4,
 "nbformat_minor": 5
}
